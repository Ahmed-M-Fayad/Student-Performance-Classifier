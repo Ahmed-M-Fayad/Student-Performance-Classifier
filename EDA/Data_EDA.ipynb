{
  "cells": [
    {
      "cell_type": "markdown",
      "id": "8fb85daf",
      "metadata": {
        "id": "8fb85daf"
      },
      "source": [
        "# EDA & Preprocessing for Student Readiness Classification"
      ]
    },
    {
      "cell_type": "markdown",
      "id": "8bc141f7",
      "metadata": {
        "id": "8bc141f7"
      },
      "source": [
        "In this notebook, we will:\n",
        "1. **Explore** the ASSISTments dataset  \n",
        "2. **Clean** and handle missing values  \n",
        "3. **Engineer** features for an early‑interaction “readiness” label  \n",
        "4. **Transform** data via pipelines  \n",
        "5. **Split** into train/test sets  "
      ]
    },
    {
      "cell_type": "markdown",
      "id": "a13e93d8",
      "metadata": {
        "id": "a13e93d8"
      },
      "source": [
        "---"
      ]
    },
    {
      "cell_type": "markdown",
      "id": "e58c6378",
      "metadata": {
        "id": "e58c6378"
      },
      "source": [
        "## 1. Import Libraries"
      ]
    },
    {
      "cell_type": "markdown",
      "id": "22feb3af",
      "metadata": {
        "id": "22feb3af"
      },
      "source": [
        "We import **pandas** and **numpy** for data handling, and **scikit‑learn** modules for preprocessing and splitting."
      ]
    },
    {
      "cell_type": "code",
      "execution_count": 1,
      "id": "2abe653a",
      "metadata": {
        "id": "2abe653a"
      },
      "outputs": [],
      "source": [
        "import pandas as pd\n",
        "import numpy as np\n",
        "\n",
        "from sklearn.model_selection import train_test_split\n",
        "from sklearn.impute import SimpleImputer\n",
        "from sklearn.preprocessing import OneHotEncoder, StandardScaler\n",
        "from sklearn.pipeline import Pipeline\n",
        "from sklearn.compose import ColumnTransformer"
      ]
    },
    {
      "cell_type": "markdown",
      "id": "64ece2c5",
      "metadata": {
        "id": "64ece2c5"
      },
      "source": [
        "---"
      ]
    },
    {
      "cell_type": "markdown",
      "id": "17587ff4",
      "metadata": {
        "id": "17587ff4"
      },
      "source": [
        "## 2. Load the Dataset"
      ]
    },
    {
      "cell_type": "markdown",
      "id": "6d76e3cb",
      "metadata": {
        "id": "6d76e3cb"
      },
      "source": [
        "Load the full ASSISTments CSV into a DataFrame.  "
      ]
    },
    {
      "cell_type": "code",
      "execution_count": 2,
      "id": "a2ee359b",
      "metadata": {
        "id": "a2ee359b"
      },
      "outputs": [],
      "source": [
        "df = pd.read_csv('assistments_2009_2010.csv')"
      ]
    },
    {
      "cell_type": "markdown",
      "id": "24c448a4",
      "metadata": {
        "id": "24c448a4"
      },
      "source": [
        "---"
      ]
    },
    {
      "cell_type": "markdown",
      "id": "845e2b19",
      "metadata": {
        "id": "845e2b19"
      },
      "source": [
        "## 3. Initial Exploration"
      ]
    },
    {
      "cell_type": "markdown",
      "id": "83af4e95",
      "metadata": {
        "id": "83af4e95"
      },
      "source": [
        "- **Shape** tells us total rows & columns.  \n",
        "- **head()** previews the first 5 rows.  \n",
        "- **info()** shows dtypes & non‑null counts.  \n",
        "- **isnull().sum()** reveals missing values per column."
      ]
    },
    {
      "cell_type": "code",
      "execution_count": 3,
      "id": "0387eb18",
      "metadata": {
        "colab": {
          "base_uri": "https://localhost:8080/",
          "height": 1000
        },
        "id": "0387eb18",
        "outputId": "48944cf4-9a33-4633-f744-48b6009b340c"
      },
      "outputs": [
        {
          "output_type": "stream",
          "name": "stdout",
          "text": [
            "Shape: (552977, 20)\n"
          ]
        },
        {
          "output_type": "display_data",
          "data": {
            "text/plain": [
              "   order_id  assignment_id  user_id  assistment_id  problem_id  original  \\\n",
              "0  20224085         232368  73963.0        42904.0     76429.0       0.0   \n",
              "1  20224095         232368  73963.0        42904.0     76430.0       0.0   \n",
              "2  20224113         232368  73963.0        42904.0     76431.0       0.0   \n",
              "3  20224123         232368  73963.0        42904.0     76432.0       0.0   \n",
              "4  20224142         232368  73963.0        42904.0     76433.0       0.0   \n",
              "\n",
              "   correct  attempt_count  ms_first_response_time tutor_mode answer_type  \\\n",
              "0      0.0            3.0                106016.0      tutor    choose_1   \n",
              "1      1.0            1.0                194187.0      tutor    choose_1   \n",
              "2      1.0            1.0                 12734.0      tutor     algebra   \n",
              "3      1.0            1.0                333484.0      tutor    choose_1   \n",
              "4      0.0            2.0                 52828.0      tutor     algebra   \n",
              "\n",
              "   sequence_id  student_class_id  position problem_set_type  base_sequence_id  \\\n",
              "0       6272.0           11816.0      93.0   MasterySection            6272.0   \n",
              "1       6272.0           11816.0      93.0   MasterySection            6272.0   \n",
              "2       6272.0           11816.0      93.0   MasterySection            6272.0   \n",
              "3       6272.0           11816.0      93.0   MasterySection            6272.0   \n",
              "4       6272.0           11816.0      93.0   MasterySection            6272.0   \n",
              "\n",
              "  list_skill_ids list_skills  teacher_id  school_id  \n",
              "0            NaN         NaN     22763.0       73.0  \n",
              "1            NaN         NaN     22763.0       73.0  \n",
              "2            NaN         NaN     22763.0       73.0  \n",
              "3            NaN         NaN     22763.0       73.0  \n",
              "4            NaN         NaN     22763.0       73.0  "
            ],
            "text/html": [
              "\n",
              "  <div id=\"df-df0c24d0-6efc-43cf-b949-8501f999ab30\" class=\"colab-df-container\">\n",
              "    <div>\n",
              "<style scoped>\n",
              "    .dataframe tbody tr th:only-of-type {\n",
              "        vertical-align: middle;\n",
              "    }\n",
              "\n",
              "    .dataframe tbody tr th {\n",
              "        vertical-align: top;\n",
              "    }\n",
              "\n",
              "    .dataframe thead th {\n",
              "        text-align: right;\n",
              "    }\n",
              "</style>\n",
              "<table border=\"1\" class=\"dataframe\">\n",
              "  <thead>\n",
              "    <tr style=\"text-align: right;\">\n",
              "      <th></th>\n",
              "      <th>order_id</th>\n",
              "      <th>assignment_id</th>\n",
              "      <th>user_id</th>\n",
              "      <th>assistment_id</th>\n",
              "      <th>problem_id</th>\n",
              "      <th>original</th>\n",
              "      <th>correct</th>\n",
              "      <th>attempt_count</th>\n",
              "      <th>ms_first_response_time</th>\n",
              "      <th>tutor_mode</th>\n",
              "      <th>answer_type</th>\n",
              "      <th>sequence_id</th>\n",
              "      <th>student_class_id</th>\n",
              "      <th>position</th>\n",
              "      <th>problem_set_type</th>\n",
              "      <th>base_sequence_id</th>\n",
              "      <th>list_skill_ids</th>\n",
              "      <th>list_skills</th>\n",
              "      <th>teacher_id</th>\n",
              "      <th>school_id</th>\n",
              "    </tr>\n",
              "  </thead>\n",
              "  <tbody>\n",
              "    <tr>\n",
              "      <th>0</th>\n",
              "      <td>20224085</td>\n",
              "      <td>232368</td>\n",
              "      <td>73963.0</td>\n",
              "      <td>42904.0</td>\n",
              "      <td>76429.0</td>\n",
              "      <td>0.0</td>\n",
              "      <td>0.0</td>\n",
              "      <td>3.0</td>\n",
              "      <td>106016.0</td>\n",
              "      <td>tutor</td>\n",
              "      <td>choose_1</td>\n",
              "      <td>6272.0</td>\n",
              "      <td>11816.0</td>\n",
              "      <td>93.0</td>\n",
              "      <td>MasterySection</td>\n",
              "      <td>6272.0</td>\n",
              "      <td>NaN</td>\n",
              "      <td>NaN</td>\n",
              "      <td>22763.0</td>\n",
              "      <td>73.0</td>\n",
              "    </tr>\n",
              "    <tr>\n",
              "      <th>1</th>\n",
              "      <td>20224095</td>\n",
              "      <td>232368</td>\n",
              "      <td>73963.0</td>\n",
              "      <td>42904.0</td>\n",
              "      <td>76430.0</td>\n",
              "      <td>0.0</td>\n",
              "      <td>1.0</td>\n",
              "      <td>1.0</td>\n",
              "      <td>194187.0</td>\n",
              "      <td>tutor</td>\n",
              "      <td>choose_1</td>\n",
              "      <td>6272.0</td>\n",
              "      <td>11816.0</td>\n",
              "      <td>93.0</td>\n",
              "      <td>MasterySection</td>\n",
              "      <td>6272.0</td>\n",
              "      <td>NaN</td>\n",
              "      <td>NaN</td>\n",
              "      <td>22763.0</td>\n",
              "      <td>73.0</td>\n",
              "    </tr>\n",
              "    <tr>\n",
              "      <th>2</th>\n",
              "      <td>20224113</td>\n",
              "      <td>232368</td>\n",
              "      <td>73963.0</td>\n",
              "      <td>42904.0</td>\n",
              "      <td>76431.0</td>\n",
              "      <td>0.0</td>\n",
              "      <td>1.0</td>\n",
              "      <td>1.0</td>\n",
              "      <td>12734.0</td>\n",
              "      <td>tutor</td>\n",
              "      <td>algebra</td>\n",
              "      <td>6272.0</td>\n",
              "      <td>11816.0</td>\n",
              "      <td>93.0</td>\n",
              "      <td>MasterySection</td>\n",
              "      <td>6272.0</td>\n",
              "      <td>NaN</td>\n",
              "      <td>NaN</td>\n",
              "      <td>22763.0</td>\n",
              "      <td>73.0</td>\n",
              "    </tr>\n",
              "    <tr>\n",
              "      <th>3</th>\n",
              "      <td>20224123</td>\n",
              "      <td>232368</td>\n",
              "      <td>73963.0</td>\n",
              "      <td>42904.0</td>\n",
              "      <td>76432.0</td>\n",
              "      <td>0.0</td>\n",
              "      <td>1.0</td>\n",
              "      <td>1.0</td>\n",
              "      <td>333484.0</td>\n",
              "      <td>tutor</td>\n",
              "      <td>choose_1</td>\n",
              "      <td>6272.0</td>\n",
              "      <td>11816.0</td>\n",
              "      <td>93.0</td>\n",
              "      <td>MasterySection</td>\n",
              "      <td>6272.0</td>\n",
              "      <td>NaN</td>\n",
              "      <td>NaN</td>\n",
              "      <td>22763.0</td>\n",
              "      <td>73.0</td>\n",
              "    </tr>\n",
              "    <tr>\n",
              "      <th>4</th>\n",
              "      <td>20224142</td>\n",
              "      <td>232368</td>\n",
              "      <td>73963.0</td>\n",
              "      <td>42904.0</td>\n",
              "      <td>76433.0</td>\n",
              "      <td>0.0</td>\n",
              "      <td>0.0</td>\n",
              "      <td>2.0</td>\n",
              "      <td>52828.0</td>\n",
              "      <td>tutor</td>\n",
              "      <td>algebra</td>\n",
              "      <td>6272.0</td>\n",
              "      <td>11816.0</td>\n",
              "      <td>93.0</td>\n",
              "      <td>MasterySection</td>\n",
              "      <td>6272.0</td>\n",
              "      <td>NaN</td>\n",
              "      <td>NaN</td>\n",
              "      <td>22763.0</td>\n",
              "      <td>73.0</td>\n",
              "    </tr>\n",
              "  </tbody>\n",
              "</table>\n",
              "</div>\n",
              "    <div class=\"colab-df-buttons\">\n",
              "\n",
              "  <div class=\"colab-df-container\">\n",
              "    <button class=\"colab-df-convert\" onclick=\"convertToInteractive('df-df0c24d0-6efc-43cf-b949-8501f999ab30')\"\n",
              "            title=\"Convert this dataframe to an interactive table.\"\n",
              "            style=\"display:none;\">\n",
              "\n",
              "  <svg xmlns=\"http://www.w3.org/2000/svg\" height=\"24px\" viewBox=\"0 -960 960 960\">\n",
              "    <path d=\"M120-120v-720h720v720H120Zm60-500h600v-160H180v160Zm220 220h160v-160H400v160Zm0 220h160v-160H400v160ZM180-400h160v-160H180v160Zm440 0h160v-160H620v160ZM180-180h160v-160H180v160Zm440 0h160v-160H620v160Z\"/>\n",
              "  </svg>\n",
              "    </button>\n",
              "\n",
              "  <style>\n",
              "    .colab-df-container {\n",
              "      display:flex;\n",
              "      gap: 12px;\n",
              "    }\n",
              "\n",
              "    .colab-df-convert {\n",
              "      background-color: #E8F0FE;\n",
              "      border: none;\n",
              "      border-radius: 50%;\n",
              "      cursor: pointer;\n",
              "      display: none;\n",
              "      fill: #1967D2;\n",
              "      height: 32px;\n",
              "      padding: 0 0 0 0;\n",
              "      width: 32px;\n",
              "    }\n",
              "\n",
              "    .colab-df-convert:hover {\n",
              "      background-color: #E2EBFA;\n",
              "      box-shadow: 0px 1px 2px rgba(60, 64, 67, 0.3), 0px 1px 3px 1px rgba(60, 64, 67, 0.15);\n",
              "      fill: #174EA6;\n",
              "    }\n",
              "\n",
              "    .colab-df-buttons div {\n",
              "      margin-bottom: 4px;\n",
              "    }\n",
              "\n",
              "    [theme=dark] .colab-df-convert {\n",
              "      background-color: #3B4455;\n",
              "      fill: #D2E3FC;\n",
              "    }\n",
              "\n",
              "    [theme=dark] .colab-df-convert:hover {\n",
              "      background-color: #434B5C;\n",
              "      box-shadow: 0px 1px 3px 1px rgba(0, 0, 0, 0.15);\n",
              "      filter: drop-shadow(0px 1px 2px rgba(0, 0, 0, 0.3));\n",
              "      fill: #FFFFFF;\n",
              "    }\n",
              "  </style>\n",
              "\n",
              "    <script>\n",
              "      const buttonEl =\n",
              "        document.querySelector('#df-df0c24d0-6efc-43cf-b949-8501f999ab30 button.colab-df-convert');\n",
              "      buttonEl.style.display =\n",
              "        google.colab.kernel.accessAllowed ? 'block' : 'none';\n",
              "\n",
              "      async function convertToInteractive(key) {\n",
              "        const element = document.querySelector('#df-df0c24d0-6efc-43cf-b949-8501f999ab30');\n",
              "        const dataTable =\n",
              "          await google.colab.kernel.invokeFunction('convertToInteractive',\n",
              "                                                    [key], {});\n",
              "        if (!dataTable) return;\n",
              "\n",
              "        const docLinkHtml = 'Like what you see? Visit the ' +\n",
              "          '<a target=\"_blank\" href=https://colab.research.google.com/notebooks/data_table.ipynb>data table notebook</a>'\n",
              "          + ' to learn more about interactive tables.';\n",
              "        element.innerHTML = '';\n",
              "        dataTable['output_type'] = 'display_data';\n",
              "        await google.colab.output.renderOutput(dataTable, element);\n",
              "        const docLink = document.createElement('div');\n",
              "        docLink.innerHTML = docLinkHtml;\n",
              "        element.appendChild(docLink);\n",
              "      }\n",
              "    </script>\n",
              "  </div>\n",
              "\n",
              "\n",
              "    <div id=\"df-b40cea9a-9839-42ee-9c8b-1fc2da633926\">\n",
              "      <button class=\"colab-df-quickchart\" onclick=\"quickchart('df-b40cea9a-9839-42ee-9c8b-1fc2da633926')\"\n",
              "                title=\"Suggest charts\"\n",
              "                style=\"display:none;\">\n",
              "\n",
              "<svg xmlns=\"http://www.w3.org/2000/svg\" height=\"24px\"viewBox=\"0 0 24 24\"\n",
              "     width=\"24px\">\n",
              "    <g>\n",
              "        <path d=\"M19 3H5c-1.1 0-2 .9-2 2v14c0 1.1.9 2 2 2h14c1.1 0 2-.9 2-2V5c0-1.1-.9-2-2-2zM9 17H7v-7h2v7zm4 0h-2V7h2v10zm4 0h-2v-4h2v4z\"/>\n",
              "    </g>\n",
              "</svg>\n",
              "      </button>\n",
              "\n",
              "<style>\n",
              "  .colab-df-quickchart {\n",
              "      --bg-color: #E8F0FE;\n",
              "      --fill-color: #1967D2;\n",
              "      --hover-bg-color: #E2EBFA;\n",
              "      --hover-fill-color: #174EA6;\n",
              "      --disabled-fill-color: #AAA;\n",
              "      --disabled-bg-color: #DDD;\n",
              "  }\n",
              "\n",
              "  [theme=dark] .colab-df-quickchart {\n",
              "      --bg-color: #3B4455;\n",
              "      --fill-color: #D2E3FC;\n",
              "      --hover-bg-color: #434B5C;\n",
              "      --hover-fill-color: #FFFFFF;\n",
              "      --disabled-bg-color: #3B4455;\n",
              "      --disabled-fill-color: #666;\n",
              "  }\n",
              "\n",
              "  .colab-df-quickchart {\n",
              "    background-color: var(--bg-color);\n",
              "    border: none;\n",
              "    border-radius: 50%;\n",
              "    cursor: pointer;\n",
              "    display: none;\n",
              "    fill: var(--fill-color);\n",
              "    height: 32px;\n",
              "    padding: 0;\n",
              "    width: 32px;\n",
              "  }\n",
              "\n",
              "  .colab-df-quickchart:hover {\n",
              "    background-color: var(--hover-bg-color);\n",
              "    box-shadow: 0 1px 2px rgba(60, 64, 67, 0.3), 0 1px 3px 1px rgba(60, 64, 67, 0.15);\n",
              "    fill: var(--button-hover-fill-color);\n",
              "  }\n",
              "\n",
              "  .colab-df-quickchart-complete:disabled,\n",
              "  .colab-df-quickchart-complete:disabled:hover {\n",
              "    background-color: var(--disabled-bg-color);\n",
              "    fill: var(--disabled-fill-color);\n",
              "    box-shadow: none;\n",
              "  }\n",
              "\n",
              "  .colab-df-spinner {\n",
              "    border: 2px solid var(--fill-color);\n",
              "    border-color: transparent;\n",
              "    border-bottom-color: var(--fill-color);\n",
              "    animation:\n",
              "      spin 1s steps(1) infinite;\n",
              "  }\n",
              "\n",
              "  @keyframes spin {\n",
              "    0% {\n",
              "      border-color: transparent;\n",
              "      border-bottom-color: var(--fill-color);\n",
              "      border-left-color: var(--fill-color);\n",
              "    }\n",
              "    20% {\n",
              "      border-color: transparent;\n",
              "      border-left-color: var(--fill-color);\n",
              "      border-top-color: var(--fill-color);\n",
              "    }\n",
              "    30% {\n",
              "      border-color: transparent;\n",
              "      border-left-color: var(--fill-color);\n",
              "      border-top-color: var(--fill-color);\n",
              "      border-right-color: var(--fill-color);\n",
              "    }\n",
              "    40% {\n",
              "      border-color: transparent;\n",
              "      border-right-color: var(--fill-color);\n",
              "      border-top-color: var(--fill-color);\n",
              "    }\n",
              "    60% {\n",
              "      border-color: transparent;\n",
              "      border-right-color: var(--fill-color);\n",
              "    }\n",
              "    80% {\n",
              "      border-color: transparent;\n",
              "      border-right-color: var(--fill-color);\n",
              "      border-bottom-color: var(--fill-color);\n",
              "    }\n",
              "    90% {\n",
              "      border-color: transparent;\n",
              "      border-bottom-color: var(--fill-color);\n",
              "    }\n",
              "  }\n",
              "</style>\n",
              "\n",
              "      <script>\n",
              "        async function quickchart(key) {\n",
              "          const quickchartButtonEl =\n",
              "            document.querySelector('#' + key + ' button');\n",
              "          quickchartButtonEl.disabled = true;  // To prevent multiple clicks.\n",
              "          quickchartButtonEl.classList.add('colab-df-spinner');\n",
              "          try {\n",
              "            const charts = await google.colab.kernel.invokeFunction(\n",
              "                'suggestCharts', [key], {});\n",
              "          } catch (error) {\n",
              "            console.error('Error during call to suggestCharts:', error);\n",
              "          }\n",
              "          quickchartButtonEl.classList.remove('colab-df-spinner');\n",
              "          quickchartButtonEl.classList.add('colab-df-quickchart-complete');\n",
              "        }\n",
              "        (() => {\n",
              "          let quickchartButtonEl =\n",
              "            document.querySelector('#df-b40cea9a-9839-42ee-9c8b-1fc2da633926 button');\n",
              "          quickchartButtonEl.style.display =\n",
              "            google.colab.kernel.accessAllowed ? 'block' : 'none';\n",
              "        })();\n",
              "      </script>\n",
              "    </div>\n",
              "\n",
              "    </div>\n",
              "  </div>\n"
            ],
            "application/vnd.google.colaboratory.intrinsic+json": {
              "type": "dataframe",
              "repr_error": "Out of range float values are not JSON compliant: nan"
            }
          },
          "metadata": {}
        },
        {
          "output_type": "stream",
          "name": "stdout",
          "text": [
            "<class 'pandas.core.frame.DataFrame'>\n",
            "RangeIndex: 552977 entries, 0 to 552976\n",
            "Data columns (total 20 columns):\n",
            " #   Column                  Non-Null Count   Dtype  \n",
            "---  ------                  --------------   -----  \n",
            " 0   order_id                552977 non-null  int64  \n",
            " 1   assignment_id           552977 non-null  int64  \n",
            " 2   user_id                 552976 non-null  float64\n",
            " 3   assistment_id           552976 non-null  float64\n",
            " 4   problem_id              552976 non-null  float64\n",
            " 5   original                552976 non-null  float64\n",
            " 6   correct                 552976 non-null  float64\n",
            " 7   attempt_count           552976 non-null  float64\n",
            " 8   ms_first_response_time  552853 non-null  float64\n",
            " 9   tutor_mode              552976 non-null  object \n",
            " 10  answer_type             552976 non-null  object \n",
            " 11  sequence_id             552976 non-null  float64\n",
            " 12  student_class_id        552976 non-null  float64\n",
            " 13  position                552976 non-null  float64\n",
            " 14  problem_set_type        552976 non-null  object \n",
            " 15  base_sequence_id        552976 non-null  float64\n",
            " 16  list_skill_ids          220098 non-null  object \n",
            " 17  list_skills             220098 non-null  object \n",
            " 18  teacher_id              552976 non-null  float64\n",
            " 19  school_id               546777 non-null  float64\n",
            "dtypes: float64(13), int64(2), object(5)\n",
            "memory usage: 84.4+ MB\n"
          ]
        },
        {
          "output_type": "display_data",
          "data": {
            "text/plain": [
              "order_id                       0\n",
              "assignment_id                  0\n",
              "user_id                        1\n",
              "assistment_id                  1\n",
              "problem_id                     1\n",
              "original                       1\n",
              "correct                        1\n",
              "attempt_count                  1\n",
              "ms_first_response_time       124\n",
              "tutor_mode                     1\n",
              "answer_type                    1\n",
              "sequence_id                    1\n",
              "student_class_id               1\n",
              "position                       1\n",
              "problem_set_type               1\n",
              "base_sequence_id               1\n",
              "list_skill_ids            332879\n",
              "list_skills               332879\n",
              "teacher_id                     1\n",
              "school_id                   6200\n",
              "dtype: int64"
            ],
            "text/html": [
              "<div>\n",
              "<style scoped>\n",
              "    .dataframe tbody tr th:only-of-type {\n",
              "        vertical-align: middle;\n",
              "    }\n",
              "\n",
              "    .dataframe tbody tr th {\n",
              "        vertical-align: top;\n",
              "    }\n",
              "\n",
              "    .dataframe thead th {\n",
              "        text-align: right;\n",
              "    }\n",
              "</style>\n",
              "<table border=\"1\" class=\"dataframe\">\n",
              "  <thead>\n",
              "    <tr style=\"text-align: right;\">\n",
              "      <th></th>\n",
              "      <th>0</th>\n",
              "    </tr>\n",
              "  </thead>\n",
              "  <tbody>\n",
              "    <tr>\n",
              "      <th>order_id</th>\n",
              "      <td>0</td>\n",
              "    </tr>\n",
              "    <tr>\n",
              "      <th>assignment_id</th>\n",
              "      <td>0</td>\n",
              "    </tr>\n",
              "    <tr>\n",
              "      <th>user_id</th>\n",
              "      <td>1</td>\n",
              "    </tr>\n",
              "    <tr>\n",
              "      <th>assistment_id</th>\n",
              "      <td>1</td>\n",
              "    </tr>\n",
              "    <tr>\n",
              "      <th>problem_id</th>\n",
              "      <td>1</td>\n",
              "    </tr>\n",
              "    <tr>\n",
              "      <th>original</th>\n",
              "      <td>1</td>\n",
              "    </tr>\n",
              "    <tr>\n",
              "      <th>correct</th>\n",
              "      <td>1</td>\n",
              "    </tr>\n",
              "    <tr>\n",
              "      <th>attempt_count</th>\n",
              "      <td>1</td>\n",
              "    </tr>\n",
              "    <tr>\n",
              "      <th>ms_first_response_time</th>\n",
              "      <td>124</td>\n",
              "    </tr>\n",
              "    <tr>\n",
              "      <th>tutor_mode</th>\n",
              "      <td>1</td>\n",
              "    </tr>\n",
              "    <tr>\n",
              "      <th>answer_type</th>\n",
              "      <td>1</td>\n",
              "    </tr>\n",
              "    <tr>\n",
              "      <th>sequence_id</th>\n",
              "      <td>1</td>\n",
              "    </tr>\n",
              "    <tr>\n",
              "      <th>student_class_id</th>\n",
              "      <td>1</td>\n",
              "    </tr>\n",
              "    <tr>\n",
              "      <th>position</th>\n",
              "      <td>1</td>\n",
              "    </tr>\n",
              "    <tr>\n",
              "      <th>problem_set_type</th>\n",
              "      <td>1</td>\n",
              "    </tr>\n",
              "    <tr>\n",
              "      <th>base_sequence_id</th>\n",
              "      <td>1</td>\n",
              "    </tr>\n",
              "    <tr>\n",
              "      <th>list_skill_ids</th>\n",
              "      <td>332879</td>\n",
              "    </tr>\n",
              "    <tr>\n",
              "      <th>list_skills</th>\n",
              "      <td>332879</td>\n",
              "    </tr>\n",
              "    <tr>\n",
              "      <th>teacher_id</th>\n",
              "      <td>1</td>\n",
              "    </tr>\n",
              "    <tr>\n",
              "      <th>school_id</th>\n",
              "      <td>6200</td>\n",
              "    </tr>\n",
              "  </tbody>\n",
              "</table>\n",
              "</div><br><label><b>dtype:</b> int64</label>"
            ]
          },
          "metadata": {}
        }
      ],
      "source": [
        "print(\"Shape:\", df.shape)\n",
        "display(df.head())\n",
        "df.info()\n",
        "display(df.isnull().sum())"
      ]
    },
    {
      "cell_type": "code",
      "execution_count": 4,
      "id": "b5d3909b",
      "metadata": {
        "colab": {
          "base_uri": "https://localhost:8080/",
          "height": 209
        },
        "id": "b5d3909b",
        "outputId": "11f3e906-3987-4cfb-89c9-77c7c508d5f1"
      },
      "outputs": [
        {
          "output_type": "execute_result",
          "data": {
            "text/plain": [
              "answer_type_grouped\n",
              "Problem-Solving        305845\n",
              "Knowledge-Based        241049\n",
              "Strategic Reasoning      6082\n",
              "Name: count, dtype: int64"
            ],
            "text/html": [
              "<div>\n",
              "<style scoped>\n",
              "    .dataframe tbody tr th:only-of-type {\n",
              "        vertical-align: middle;\n",
              "    }\n",
              "\n",
              "    .dataframe tbody tr th {\n",
              "        vertical-align: top;\n",
              "    }\n",
              "\n",
              "    .dataframe thead th {\n",
              "        text-align: right;\n",
              "    }\n",
              "</style>\n",
              "<table border=\"1\" class=\"dataframe\">\n",
              "  <thead>\n",
              "    <tr style=\"text-align: right;\">\n",
              "      <th></th>\n",
              "      <th>count</th>\n",
              "    </tr>\n",
              "    <tr>\n",
              "      <th>answer_type_grouped</th>\n",
              "      <th></th>\n",
              "    </tr>\n",
              "  </thead>\n",
              "  <tbody>\n",
              "    <tr>\n",
              "      <th>Problem-Solving</th>\n",
              "      <td>305845</td>\n",
              "    </tr>\n",
              "    <tr>\n",
              "      <th>Knowledge-Based</th>\n",
              "      <td>241049</td>\n",
              "    </tr>\n",
              "    <tr>\n",
              "      <th>Strategic Reasoning</th>\n",
              "      <td>6082</td>\n",
              "    </tr>\n",
              "  </tbody>\n",
              "</table>\n",
              "</div><br><label><b>dtype:</b> int64</label>"
            ]
          },
          "metadata": {},
          "execution_count": 4
        }
      ],
      "source": [
        "# Map answer types to broader categories\n",
        "answer_type_mapping = {\n",
        "    'algebra': 'Problem-Solving',\n",
        "    'choose_1': 'Knowledge-Based',\n",
        "    'fill_in_1': 'Knowledge-Based',\n",
        "    'choose_n': 'Strategic Reasoning',\n",
        "    'open_response': 'Problem-Solving',\n",
        "    'rank': 'Strategic Reasoning',\n",
        "    'external': 'Knowledge-Based'  # assuming \"external\" is simple lookup questions\n",
        "}\n",
        "\n",
        "# Apply the mapping\n",
        "df['answer_type_grouped'] = df['answer_type'].map(answer_type_mapping)\n",
        "df['answer_type_grouped'].value_counts()"
      ]
    },
    {
      "cell_type": "markdown",
      "id": "94332427",
      "metadata": {
        "id": "94332427"
      },
      "source": [
        "---"
      ]
    },
    {
      "cell_type": "markdown",
      "id": "1eb04ae5",
      "metadata": {
        "id": "1eb04ae5"
      },
      "source": [
        "## 4. Handle Missing Values"
      ]
    },
    {
      "cell_type": "markdown",
      "id": "add757a7",
      "metadata": {
        "id": "add757a7"
      },
      "source": [
        "- We fill **ms_first_response_time** with its median (only ~125 missing).  \n",
        "- We drop columns with large null counts or that aren’t needed for our early‑interaction model.  "
      ]
    },
    {
      "cell_type": "code",
      "execution_count": 5,
      "id": "df88d28c",
      "metadata": {
        "id": "df88d28c"
      },
      "outputs": [],
      "source": [
        "# 4.1 Impute ms_first_response_time\n",
        "median_time = df['ms_first_response_time'].median()\n",
        "df['ms_first_response_time'] = df['ms_first_response_time'].fillna(median_time)\n",
        "\n",
        "# 4.2 Drop columns with excessive or non‑essential nulls\n",
        "cols_to_drop = [\n",
        "    'sequence_id', 'student_class_id', 'position', 'problem_set_type',\n",
        "    'base_sequence_id', 'teacher_id', 'school_id',\n",
        "    'list_skill_ids', 'list_skills'\n",
        "]\n",
        "df = df.drop(columns=cols_to_drop)"
      ]
    },
    {
      "cell_type": "markdown",
      "id": "4066ec3e",
      "metadata": {
        "id": "4066ec3e"
      },
      "source": [
        "---"
      ]
    },
    {
      "cell_type": "markdown",
      "id": "4c49052a",
      "metadata": {
        "id": "4c49052a"
      },
      "source": [
        "## 5. Feature Engineering: First Interaction"
      ]
    },
    {
      "cell_type": "markdown",
      "id": "4c20229a",
      "metadata": {
        "id": "4c20229a"
      },
      "source": [
        "We extract **each student’s very first problem interaction**. This lets us classify readiness after just one event.  "
      ]
    },
    {
      "cell_type": "code",
      "execution_count": 6,
      "id": "c1b4273e",
      "metadata": {
        "id": "c1b4273e"
      },
      "outputs": [],
      "source": [
        "# Sort by student and time, then select their first event\n",
        "df_sorted = df.sort_values(['user_id', 'order_id'])\n",
        "first_interactions = df_sorted.groupby('user_id').first().reset_index()"
      ]
    },
    {
      "cell_type": "markdown",
      "id": "bdebde74",
      "metadata": {
        "id": "bdebde74"
      },
      "source": [
        "---"
      ]
    },
    {
      "cell_type": "markdown",
      "id": "d30f962a",
      "metadata": {
        "id": "d30f962a"
      },
      "source": [
        "## 6. Define Readiness Categories"
      ]
    },
    {
      "cell_type": "markdown",
      "id": "c320ff1a",
      "metadata": {
        "id": "c320ff1a"
      },
      "source": [
        "We label each student into:\n",
        "1. **Fundamentals** (Category 1)  \n",
        "2. **More practice** (Category 2)  \n",
        "3. **Advanced** (Category 3)  \n",
        "based on correctness, attempts, and response time."
      ]
    },
    {
      "cell_type": "code",
      "execution_count": 7,
      "id": "054b992e",
      "metadata": {
        "id": "054b992e"
      },
      "outputs": [],
      "source": [
        "# Determine a “fast/slow” threshold (median response time)\n",
        "threshold_time = first_interactions['ms_first_response_time'].median()\n",
        "\n",
        "def assign_category(row):\n",
        "    if (row['correct'] == 0) or (row['attempt_count'] > 2) or (row['ms_first_response_time'] > threshold_time):\n",
        "        return 1  # Needs reinforcement of fundamentals\n",
        "    elif (row['correct'] == 1) and (row['attempt_count'] == 1) and (row['ms_first_response_time'] <= threshold_time):\n",
        "        return 3  # Advanced level\n",
        "    else:\n",
        "        return 2  # Needs more practice\n",
        "\n",
        "first_interactions['category'] = first_interactions.apply(assign_category, axis=1)"
      ]
    },
    {
      "cell_type": "markdown",
      "id": "064d308a",
      "metadata": {
        "id": "064d308a"
      },
      "source": [
        "---"
      ]
    },
    {
      "cell_type": "markdown",
      "id": "d08e7185",
      "metadata": {
        "id": "d08e7185"
      },
      "source": [
        "## 7. Select Features & Labels"
      ]
    },
    {
      "cell_type": "markdown",
      "id": "600ea904",
      "metadata": {
        "id": "600ea904"
      },
      "source": [
        "We’ll use **attempt_count**, **response time**, and two categorical columns to predict the category.  "
      ]
    },
    {
      "cell_type": "code",
      "execution_count": 8,
      "id": "08a620de",
      "metadata": {
        "id": "08a620de"
      },
      "outputs": [],
      "source": [
        "feature_cols = ['attempt_count', 'ms_first_response_time', 'tutor_mode', 'answer_type_grouped']\n",
        "X = first_interactions[feature_cols]\n",
        "y = first_interactions['category']"
      ]
    },
    {
      "cell_type": "markdown",
      "id": "4cd3753a",
      "metadata": {
        "id": "4cd3753a"
      },
      "source": [
        "---"
      ]
    },
    {
      "cell_type": "markdown",
      "id": "2b5a6066",
      "metadata": {
        "id": "2b5a6066"
      },
      "source": [
        "## 8. Build Preprocessing Pipelines"
      ]
    },
    {
      "cell_type": "markdown",
      "id": "7c2977fe",
      "metadata": {
        "id": "7c2977fe"
      },
      "source": [
        "We create separate transformers for numeric vs categorical data, then merge via `ColumnTransformer`."
      ]
    },
    {
      "cell_type": "code",
      "execution_count": 9,
      "id": "78fdd0fb",
      "metadata": {
        "id": "78fdd0fb"
      },
      "outputs": [],
      "source": [
        "# Numeric pipeline: median impute + standard scaling\n",
        "numeric_features = ['attempt_count', 'ms_first_response_time']\n",
        "numeric_transformer = Pipeline([\n",
        "    ('imputer', SimpleImputer(strategy='median')),\n",
        "    ('scaler', StandardScaler())\n",
        "])\n",
        "\n",
        "# Categorical pipeline: constant impute + one‑hot encode\n",
        "categorical_features = ['tutor_mode', 'answer_type_grouped']\n",
        "categorical_transformer = Pipeline([\n",
        "    ('imputer', SimpleImputer(strategy='constant', fill_value='missing')),\n",
        "    ('onehot', OneHotEncoder(handle_unknown='ignore'))\n",
        "])\n",
        "\n",
        "# Combine them\n",
        "preprocessor = ColumnTransformer([\n",
        "    ('num', numeric_transformer, numeric_features),\n",
        "    ('cat', categorical_transformer, categorical_features)\n",
        "])"
      ]
    },
    {
      "cell_type": "markdown",
      "id": "466f7602",
      "metadata": {
        "id": "466f7602"
      },
      "source": [
        "---"
      ]
    },
    {
      "cell_type": "markdown",
      "id": "a5105585",
      "metadata": {
        "id": "a5105585"
      },
      "source": [
        "## 9. Apply Transformations & Split"
      ]
    },
    {
      "cell_type": "markdown",
      "id": "072b7362",
      "metadata": {
        "id": "072b7362"
      },
      "source": [
        "- **fit_transform** applies all imputations, scalings, and encodings.  \n",
        "- We then split data for modeling (80% train, 20% test)."
      ]
    },
    {
      "cell_type": "code",
      "execution_count": 10,
      "id": "7bdbcaab",
      "metadata": {
        "id": "7bdbcaab"
      },
      "outputs": [],
      "source": [
        "# Transform features\n",
        "X_processed = preprocessor.fit_transform(X)\n",
        "\n",
        "# Train/test split\n",
        "X_train, X_test, y_train, y_test = train_test_split(\n",
        "    X_processed, y, test_size=0.1, random_state=42, stratify=y\n",
        ")\n",
        "\n",
        "# Saving the split\n",
        "np.savez('data_split.npz', X_train=X_train, X_test=X_test, y_train=y_train, y_test=y_test)"
      ]
    },
    {
      "cell_type": "markdown",
      "id": "948fb200",
      "metadata": {
        "id": "948fb200"
      },
      "source": [
        "---"
      ]
    },
    {
      "cell_type": "markdown",
      "id": "f9108ed3",
      "metadata": {
        "id": "f9108ed3"
      },
      "source": [
        "# Next Steps"
      ]
    },
    {
      "cell_type": "markdown",
      "id": "8beaaeeb",
      "metadata": {
        "id": "8beaaeeb"
      },
      "source": [
        "1. **Train** a classifier (e.g., RandomForest, XGBoost).  \n",
        "2. **Evaluate** with accuracy, confusion matrix, etc.  \n",
        "3. **Iterate**: add more features, tune thresholds, or try cross‑validation."
      ]
    },
    {
      "cell_type": "markdown",
      "source": [
        "---"
      ],
      "metadata": {
        "id": "0b4tY3E8HQcn"
      },
      "id": "0b4tY3E8HQcn"
    },
    {
      "cell_type": "markdown",
      "source": [
        "# Saving a Copy from the processed data"
      ],
      "metadata": {
        "id": "4z_6vApOHSXB"
      },
      "id": "4z_6vApOHSXB"
    },
    {
      "cell_type": "code",
      "source": [
        "X.to_csv('X_processed.csv', index=False)\n",
        "y.to_csv('y_processed.csv', index=False)"
      ],
      "metadata": {
        "id": "pLD9IxveHRih"
      },
      "id": "pLD9IxveHRih",
      "execution_count": 11,
      "outputs": []
    },
    {
      "cell_type": "markdown",
      "source": [
        "---"
      ],
      "metadata": {
        "id": "UsHq1HNxyr86"
      },
      "id": "UsHq1HNxyr86"
    },
    {
      "cell_type": "markdown",
      "source": [
        "# Compressing Original Data"
      ],
      "metadata": {
        "id": "N7wAfHZ2yuDg"
      },
      "id": "N7wAfHZ2yuDg"
    },
    {
      "cell_type": "markdown",
      "source": [
        "For preparing to upload to github"
      ],
      "metadata": {
        "id": "-5jKt_-my5_I"
      },
      "id": "-5jKt_-my5_I"
    },
    {
      "cell_type": "code",
      "source": [
        "import gzip\n",
        "import shutil\n",
        "\n",
        "# Path to the original CSV file\n",
        "input_file = 'assistments_2009_2010.csv'\n",
        "# Path to the compressed output file\n",
        "output_file = 'assistments_2009_2010.csv.gz'\n",
        "\n",
        "# Compress the CSV file\n",
        "with open(input_file, 'rb') as f_in:\n",
        "    with gzip.open(output_file, 'wb') as f_out:\n",
        "        shutil.copyfileobj(f_in, f_out)\n",
        "\n",
        "print(f\"File '{input_file}' has been compressed to '{output_file}'\")"
      ],
      "metadata": {
        "colab": {
          "base_uri": "https://localhost:8080/"
        },
        "id": "aNnvrZV0ysZA",
        "outputId": "40dafc63-2af3-4ebe-d38c-531a81d4bbb9"
      },
      "id": "aNnvrZV0ysZA",
      "execution_count": 12,
      "outputs": [
        {
          "output_type": "stream",
          "name": "stdout",
          "text": [
            "File 'assistments_2009_2010.csv' has been compressed to 'assistments_2009_2010.csv.gz'\n"
          ]
        }
      ]
    }
  ],
  "metadata": {
    "kernelspec": {
      "display_name": "Python 3",
      "language": "python",
      "name": "python3"
    },
    "language_info": {
      "codemirror_mode": {
        "name": "ipython",
        "version": 3
      },
      "file_extension": ".py",
      "mimetype": "text/x-python",
      "name": "python",
      "nbconvert_exporter": "python",
      "pygments_lexer": "ipython3",
      "version": "3.12.1"
    },
    "colab": {
      "provenance": []
    }
  },
  "nbformat": 4,
  "nbformat_minor": 5
}